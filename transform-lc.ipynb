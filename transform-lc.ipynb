{
 "cells": [
  {
   "cell_type": "markdown",
   "id": "4140a886-cc6f-4bb1-b52e-dc5c75af77b9",
   "metadata": {},
   "source": [
    "# Transforming lexical-cloud-data\n",
    "\n",
    "We'll consolidate all of the JSON from lexical-cloud-data folders into two entities:\n",
    "  1. Taxonomy\n",
    "  1. Products\n",
    "  \n",
    "This function will help us locate those files:"
   ]
  },
  {
   "cell_type": "code",
   "execution_count": 34,
   "id": "1f1f27cb-a893-43bb-aafa-011ffde179f0",
   "metadata": {},
   "outputs": [],
   "source": [
    "import glob\n",
    "import os\n",
    "\n",
    "def list_filenames(rel_path: str):\n",
    "    return glob.glob(os.path.join(os.getcwd(),\"data/lexical-cloud-data/%s\"%rel_path,\"*.json\"))"
   ]
  },
  {
   "cell_type": "markdown",
   "id": "e20628fd-26be-42d4-bac2-0c29c2d64634",
   "metadata": {},
   "source": [
    "## Taxonomy\n",
    "\n",
    "JSON exist in these folders for Taxonomy:\n",
    "```\n",
    "providers/*.json\n",
    "services/*.json\n",
    "domains/*.json\n",
    "categories/*.json\n",
    "features/*.json\n",
    "labels/*.json\n",
    "```\n",
    "Each json entry has a matching folder with the following\n",
    "```\n",
    "{taxonomy}/{entry}/products.json\n",
    "{taxonomy}/{entry}/relations.json\n",
    "```\n",
    "\n",
    "Entries in each taxonomy folder have a `type` attribute matching the singular form of the name.\n",
    "The nested folder's products.json is duplicate information, so we won't be using it.\n",
    "The relations.json has relationships for the taxonomy entry to products and other taxonomy entries, so it will be merged into taxonomy entitiy in a `relations` attribute. This attribute is more complete than `definition` which we'll drop.\n"
   ]
  },
  {
   "cell_type": "code",
   "execution_count": 24,
   "id": "b1c68ba2-94b1-4e48-81d8-8557f97b6105",
   "metadata": {},
   "outputs": [],
   "source": [
    "import json\n",
    "import re\n",
    "\n",
    "def create_taxonomy_record(filename: str):\n",
    "    result = None\n",
    "    with open(filename, 'r') as f:\n",
    "        result = json.load(f)\n",
    "    if result is not None:\n",
    "        if \"definition\" in result:\n",
    "            del result[\"definition\"]\n",
    "        with open(re.sub(r\"\\.json$\",\"/relations.json\",filename), 'r') as f:\n",
    "            result[\"relations\"] = json.load(f)\n",
    "    return result"
   ]
  },
  {
   "cell_type": "code",
   "execution_count": 25,
   "id": "829958d8-dcf3-4034-b898-ff37243cabdf",
   "metadata": {},
   "outputs": [],
   "source": [
    "providers = [create_taxonomy_record(f) for f in list_filenames(\"providers\")]\n",
    "services = [create_taxonomy_record(f) for f in list_filenames(\"services\")]\n",
    "domains = [create_taxonomy_record(f) for f in list_filenames(\"domains\")]\n",
    "categories = [create_taxonomy_record(f) for f in list_filenames(\"categories\")]\n",
    "features = [create_taxonomy_record(f) for f in list_filenames(\"features\")]"
   ]
  },
  {
   "cell_type": "markdown",
   "id": "52774d05-3db0-425f-813f-23c661f1b580",
   "metadata": {},
   "source": [
    "Resulting in taxonomy records like:"
   ]
  },
  {
   "cell_type": "code",
   "execution_count": 27,
   "id": "caf58e1a-f260-4f65-be7b-ac6924c94f89",
   "metadata": {},
   "outputs": [
    {
     "name": "stdout",
     "output_type": "stream",
     "text": [
      "{\n",
      "    \"id\": \"access-control\",\n",
      "    \"name\": \"access control\",\n",
      "    \"type\": \"category\",\n",
      "    \"links\": {\n",
      "        \"self\": \"/categories/access-control\"\n",
      "    },\n",
      "    \"relations\": {\n",
      "        \"instance\": [\n",
      "            \"/products/identity/aws/iam\",\n",
      "            \"/products/governance/aws/service-control-policies\",\n",
      "            \"/products/identity/azure/rbac\",\n",
      "            \"/products/identity/gcp/iam\"\n",
      "        ],\n",
      "        \"intersect\": {\n",
      "            \"domains\": [\n",
      "                \"identity management\"\n",
      "            ],\n",
      "            \"services\": [\n",
      "                \"identity\"\n",
      "            ]\n",
      "        },\n",
      "        \"symdiff\": {\n",
      "            \"categories\": [\n",
      "                \"identity provider\"\n",
      "            ],\n",
      "            \"domains\": [\n",
      "                \"systems management\"\n",
      "            ],\n",
      "            \"providers\": [\n",
      "                \"aws\",\n",
      "                \"azure\",\n",
      "                \"gcp\"\n",
      "            ],\n",
      "            \"services\": [\n",
      "                \"governance\"\n",
      "            ]\n",
      "        }\n",
      "    }\n",
      "}\n"
     ]
    }
   ],
   "source": [
    "print(json.dumps(categories[0], indent=4))"
   ]
  },
  {
   "cell_type": "markdown",
   "id": "1c71d18c-3016-4b8d-b491-4b7a169fefcb",
   "metadata": {},
   "source": [
    "## Product\n",
    "\n",
    "The product entity combined JSON entries under the products directory:\n",
    "\n",
    "```\n",
    "products/{service}/{provider}/*.json\n",
    "products/{service}/{provider}/*/models/*.json\n",
    "products/{service}/{provider}/*/components/*.json\n",
    "```\n",
    "\n",
    "Adding a type attribute allows us to distinguish these later. Also, the name of an entry will need to append the name for model and component entries. This will keep these records consistent."
   ]
  },
  {
   "cell_type": "code",
   "execution_count": null,
   "id": "f056136b-cf96-4736-bb85-b6cee99f9058",
   "metadata": {},
   "outputs": [],
   "source": [
    "def create_product_record(filename: str, tier: str):\n",
    "    result = None\n",
    "    with open(filename, 'r') as f:\n",
    "        result = json.load(f)\n",
    "    if result is not None:\n",
    "        result[\"type\"] = tier\n",
    "        if tier in result and tier in [\"component\",\"model\"]:\n",
    "            result[\"name\"] += \" - %s\"%result[tier]\n",
    "            del result[tier]\n",
    "    return result"
   ]
  },
  {
   "cell_type": "code",
   "execution_count": 14,
   "id": "0296ff65-d20b-4022-bd25-9461ffeaf907",
   "metadata": {},
   "outputs": [],
   "source": [
    "products = [create_product_record(f,\"product\") for f in list_filenames(\"products/*/*\")]\n",
    "product_components = [create_product_record(f,\"component\") for f in list_filenames(\"products/*/*/*/components\")]\n",
    "product_models = [create_product_record(f,\"model\") for f in list_filenames(\"products/*/*/*/models\")]"
   ]
  },
  {
   "cell_type": "markdown",
   "id": "6e5e7bbd-6932-473e-af79-319c153f8b46",
   "metadata": {},
   "source": [
    "Resulting in similar records for products, components and models:"
   ]
  },
  {
   "cell_type": "code",
   "execution_count": 28,
   "id": "dbffdab5-adad-4a86-bfe5-339292e5fd5a",
   "metadata": {},
   "outputs": [
    {
     "name": "stdout",
     "output_type": "stream",
     "text": [
      "{\n",
      "    \"name\": \"Amaxon Lex\",\n",
      "    \"providers\": [\n",
      "        \"aws\"\n",
      "    ],\n",
      "    \"services\": [\n",
      "        \"ai\"\n",
      "    ],\n",
      "    \"domains\": [\n",
      "        \"machine learning\",\n",
      "        \"serverless\"\n",
      "    ],\n",
      "    \"categories\": [\n",
      "        \"language processing\"\n",
      "    ],\n",
      "    \"features\": [\n",
      "        \"conversational interface\"\n",
      "    ],\n",
      "    \"links\": {\n",
      "        \"self\": \"/products/ai/aws/lex\"\n",
      "    },\n",
      "    \"type\": \"product\"\n",
      "}\n"
     ]
    }
   ],
   "source": [
    "print(json.dumps(products[0], indent=4))"
   ]
  },
  {
   "cell_type": "code",
   "execution_count": 29,
   "id": "f4639a2c-fecd-4f62-a00f-b19f6eb226d9",
   "metadata": {},
   "outputs": [
    {
     "name": "stdout",
     "output_type": "stream",
     "text": [
      "{\n",
      "    \"name\": \"Google Cloud Vertex AI - AutoML\",\n",
      "    \"providers\": [\n",
      "        \"gcp\"\n",
      "    ],\n",
      "    \"services\": [\n",
      "        \"ai\"\n",
      "    ],\n",
      "    \"domains\": [\n",
      "        \"machine learning\",\n",
      "        \"managed service\"\n",
      "    ],\n",
      "    \"categories\": [\n",
      "        \"no-code\",\n",
      "        \"model training\"\n",
      "    ],\n",
      "    \"links\": {\n",
      "        \"self\": \"/products/ai/gcp/vertex-ai/components/automl\",\n",
      "        \"parent\": \"/products/ai/gcp/vertex-ai\"\n",
      "    },\n",
      "    \"type\": \"component\"\n",
      "}\n"
     ]
    }
   ],
   "source": [
    "print(json.dumps(product_components[0], indent=4))"
   ]
  },
  {
   "cell_type": "code",
   "execution_count": 30,
   "id": "94bf682c-330a-4c9a-abcc-be87b1b2ad06",
   "metadata": {},
   "outputs": [
    {
     "name": "stdout",
     "output_type": "stream",
     "text": [
      "{\n",
      "    \"name\": \"Google App Engine - Flexible environment\",\n",
      "    \"providers\": [\n",
      "        \"gcp\"\n",
      "    ],\n",
      "    \"services\": [\n",
      "        \"compute\"\n",
      "    ],\n",
      "    \"domains\": [\n",
      "        \"managed service\"\n",
      "    ],\n",
      "    \"categories\": [\n",
      "        \"paas\"\n",
      "    ],\n",
      "    \"features\": [\n",
      "        \"container-based\"\n",
      "    ],\n",
      "    \"links\": {\n",
      "        \"self\": \"/products/compute/gcp/app-engine/models/flexible\",\n",
      "        \"parent\": \"/products/compute/gcp/app-engine\"\n",
      "    },\n",
      "    \"type\": \"model\"\n",
      "}\n"
     ]
    }
   ],
   "source": [
    "print(json.dumps(product_models[0], indent=4))"
   ]
  },
  {
   "cell_type": "markdown",
   "id": "c2374453-0585-482c-a321-a288878a0a9c",
   "metadata": {},
   "source": [
    "At this point, we know that all our data is valid json. We can export this data:"
   ]
  },
  {
   "cell_type": "code",
   "execution_count": 36,
   "id": "3b630bdb-e22d-4667-9df9-96b48bee81d5",
   "metadata": {},
   "outputs": [],
   "source": [
    "# TODO - dump json to disk"
   ]
  },
  {
   "cell_type": "markdown",
   "id": "13263d3c-14f6-4b69-b875-e2a2c218f531",
   "metadata": {},
   "source": [
    "## Analysis\n",
    "\n",
    "TODO"
   ]
  },
  {
   "cell_type": "code",
   "execution_count": null,
   "id": "bed34581-899e-457a-826a-69485229bd8f",
   "metadata": {},
   "outputs": [],
   "source": []
  }
 ],
 "metadata": {
  "kernelspec": {
   "display_name": "Python 3 (ipykernel)",
   "language": "python",
   "name": "python3"
  },
  "language_info": {
   "codemirror_mode": {
    "name": "ipython",
    "version": 3
   },
   "file_extension": ".py",
   "mimetype": "text/x-python",
   "name": "python",
   "nbconvert_exporter": "python",
   "pygments_lexer": "ipython3",
   "version": "3.10.6"
  }
 },
 "nbformat": 4,
 "nbformat_minor": 5
}
