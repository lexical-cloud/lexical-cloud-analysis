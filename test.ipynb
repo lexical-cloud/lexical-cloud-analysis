{
 "cells": [
  {
   "cell_type": "code",
   "execution_count": 3,
   "id": "d94655c3-c721-4a69-a551-d36709ec4e9f",
   "metadata": {},
   "outputs": [],
   "source": [
    "test = 5\n"
   ]
  },
  {
   "cell_type": "code",
   "execution_count": 4,
   "id": "2f7196b8-f85a-40fe-b1d8-cd0267b297e3",
   "metadata": {},
   "outputs": [
    {
     "name": "stdout",
     "output_type": "stream",
     "text": [
      "5\n"
     ]
    }
   ],
   "source": [
    "print(test)"
   ]
  },
  {
   "cell_type": "code",
   "execution_count": null,
   "id": "cbb6b60f-3f27-4415-bbfc-73add11fdc53",
   "metadata": {},
   "outputs": [],
   "source": []
  }
 ],
 "metadata": {
  "kernelspec": {
   "display_name": "Python 3 (ipykernel)",
   "language": "python",
   "name": "python3"
  },
  "language_info": {
   "codemirror_mode": {
    "name": "ipython",
    "version": 3
   },
   "file_extension": ".py",
   "mimetype": "text/x-python",
   "name": "python",
   "nbconvert_exporter": "python",
   "pygments_lexer": "ipython3",
   "version": "3.10.6"
  }
 },
 "nbformat": 4,
 "nbformat_minor": 5
}
