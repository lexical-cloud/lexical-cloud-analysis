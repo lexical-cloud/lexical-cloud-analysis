{
 "cells": [
  {
   "cell_type": "markdown",
   "id": "e6753655-63da-4f74-a0ef-b98c6a82c7f3",
   "metadata": {},
   "source": [
    "## Exploratory Analysis for lexical-cloud-data's taxonomy\n",
    "\n",
    "We've already transformed the taxonomy data from lexical-cloud-data at `data/taxonomy.json`"
   ]
  },
  {
   "cell_type": "code",
   "execution_count": 1,
   "id": "926ec5e5-396d-4c55-b5b1-f42ca6075eb6",
   "metadata": {},
   "outputs": [],
   "source": [
    "import pandas as pd"
   ]
  },
  {
   "cell_type": "code",
   "execution_count": 2,
   "id": "056dbe90-f80d-48d7-8c4c-5c463070c8a4",
   "metadata": {},
   "outputs": [
    {
     "name": "stdout",
     "output_type": "stream",
     "text": [
      "<class 'pandas.core.frame.DataFrame'>\n",
      "RangeIndex: 198 entries, 0 to 197\n",
      "Data columns (total 5 columns):\n",
      " #   Column     Non-Null Count  Dtype \n",
      "---  ------     --------------  ----- \n",
      " 0   id         198 non-null    object\n",
      " 1   name       198 non-null    object\n",
      " 2   type       198 non-null    object\n",
      " 3   links      198 non-null    object\n",
      " 4   relations  198 non-null    object\n",
      "dtypes: object(5)\n",
      "memory usage: 7.9+ KB\n"
     ]
    }
   ],
   "source": [
    "taxonomy_df = pd.read_json(\"data/taxonomy.json\")\n",
    "taxonomy_df.info()"
   ]
  },
  {
   "cell_type": "markdown",
   "id": "48b53713-48c3-49e2-9a42-a0f77c704b7b",
   "metadata": {},
   "source": [
    "#### How are taxonomy entries represented by type?"
   ]
  },
  {
   "cell_type": "code",
   "execution_count": 4,
   "id": "01e3f3e1-e723-41a4-bfe7-a2be685de4a6",
   "metadata": {},
   "outputs": [
    {
     "data": {
      "text/html": [
       "<div>\n",
       "<style scoped>\n",
       "    .dataframe tbody tr th:only-of-type {\n",
       "        vertical-align: middle;\n",
       "    }\n",
       "\n",
       "    .dataframe tbody tr th {\n",
       "        vertical-align: top;\n",
       "    }\n",
       "\n",
       "    .dataframe thead th {\n",
       "        text-align: right;\n",
       "    }\n",
       "</style>\n",
       "<table border=\"1\" class=\"dataframe\">\n",
       "  <thead>\n",
       "    <tr style=\"text-align: right;\">\n",
       "      <th></th>\n",
       "      <th>id</th>\n",
       "    </tr>\n",
       "    <tr>\n",
       "      <th>type</th>\n",
       "      <th></th>\n",
       "    </tr>\n",
       "  </thead>\n",
       "  <tbody>\n",
       "    <tr>\n",
       "      <th>category</th>\n",
       "      <td>110</td>\n",
       "    </tr>\n",
       "    <tr>\n",
       "      <th>domain</th>\n",
       "      <td>27</td>\n",
       "    </tr>\n",
       "    <tr>\n",
       "      <th>feature</th>\n",
       "      <td>40</td>\n",
       "    </tr>\n",
       "    <tr>\n",
       "      <th>label</th>\n",
       "      <td>1</td>\n",
       "    </tr>\n",
       "    <tr>\n",
       "      <th>provider</th>\n",
       "      <td>4</td>\n",
       "    </tr>\n",
       "    <tr>\n",
       "      <th>service</th>\n",
       "      <td>16</td>\n",
       "    </tr>\n",
       "  </tbody>\n",
       "</table>\n",
       "</div>"
      ],
      "text/plain": [
       "           id\n",
       "type         \n",
       "category  110\n",
       "domain     27\n",
       "feature    40\n",
       "label       1\n",
       "provider    4\n",
       "service    16"
      ]
     },
     "execution_count": 4,
     "metadata": {},
     "output_type": "execute_result"
    }
   ],
   "source": [
    "taxonomy_df.drop(columns=['name','links','relations']).groupby('type').count()"
   ]
  },
  {
   "cell_type": "code",
   "execution_count": null,
   "id": "d3b2fc94-ce28-444c-8655-3a473c926eb1",
   "metadata": {},
   "outputs": [],
   "source": []
  }
 ],
 "metadata": {
  "kernelspec": {
   "display_name": "Python 3 (ipykernel)",
   "language": "python",
   "name": "python3"
  },
  "language_info": {
   "codemirror_mode": {
    "name": "ipython",
    "version": 3
   },
   "file_extension": ".py",
   "mimetype": "text/x-python",
   "name": "python",
   "nbconvert_exporter": "python",
   "pygments_lexer": "ipython3",
   "version": "3.10.6"
  }
 },
 "nbformat": 4,
 "nbformat_minor": 5
}
